{
  "cells": [
    {
      "cell_type": "markdown",
      "metadata": {
        "id": "IZC_pkeH4a0J"
      },
      "source": [
        "# Insurance Premium Prediction - Kaggle Playground Series S4E12\n",
        "#### Author: Ahmad AlModhayan\n",
        "#### Date: 2024-12-10\n",
        "\n",
        "## Overview\n",
        "This notebook implements a machine learning solution for predicting insurance premiums using ensemble methods."
      ]
    },
    {
      "cell_type": "code",
      "execution_count": 7,
      "metadata": {
        "id": "uu5QA5KB4a0K"
      },
      "outputs": [],
      "source": [
        "# Import necessary libraries\n",
        "import numpy as np\n",
        "import pandas as pd\n",
        "import matplotlib.pyplot as plt\n",
        "import seaborn as sns\n",
        "from sklearn.model_selection import KFold\n",
        "from sklearn.preprocessing import LabelEncoder, StandardScaler\n",
        "from sklearn.metrics import mean_squared_log_error\n",
        "import xgboost as xgb\n",
        "import lightgbm as lgb\n",
        "import warnings\n",
        "import logging\n",
        "\n",
        "warnings.filterwarnings('ignore')\n",
        "\n",
        "RANDOM_STATE = 42\n",
        "np.random.seed(RANDOM_STATE)"
      ]
    },
    {
      "cell_type": "markdown",
      "metadata": {
        "id": "jE2oh_LU4a0L"
      },
      "source": [
        "#### 1. Data Loading and Initial Analysis\n"
      ]
    },
    {
      "cell_type": "code",
      "execution_count": 6,
      "metadata": {
        "colab": {
          "base_uri": "https://localhost:8080/"
        },
        "id": "Y_KEEmW-4a0L",
        "outputId": "0bcd9b10-fae2-4ab6-e5ed-31fb0f1351dd"
      },
      "outputs": [
        {
          "name": "stdout",
          "output_type": "stream",
          "text": [
            "Loading data...\n",
            "Training Data Shape: (1200000, 21)\n",
            "\n",
            "Test Data Shape: (800000, 20)\n",
            "\n",
            "Training Data Info:\n",
            "<class 'pandas.core.frame.DataFrame'>\n",
            "RangeIndex: 1200000 entries, 0 to 1199999\n",
            "Data columns (total 21 columns):\n",
            " #   Column                Non-Null Count    Dtype  \n",
            "---  ------                --------------    -----  \n",
            " 0   id                    1200000 non-null  int64  \n",
            " 1   Age                   1181295 non-null  float64\n",
            " 2   Gender                1200000 non-null  object \n",
            " 3   Annual Income         1155051 non-null  float64\n",
            " 4   Marital Status        1181471 non-null  object \n",
            " 5   Number of Dependents  1090328 non-null  float64\n",
            " 6   Education Level       1200000 non-null  object \n",
            " 7   Occupation            841925 non-null   object \n",
            " 8   Health Score          1125924 non-null  float64\n",
            " 9   Location              1200000 non-null  object \n",
            " 10  Policy Type           1200000 non-null  object \n",
            " 11  Previous Claims       835971 non-null   float64\n",
            " 12  Vehicle Age           1199994 non-null  float64\n",
            " 13  Credit Score          1062118 non-null  float64\n",
            " 14  Insurance Duration    1199999 non-null  float64\n",
            " 15  Policy Start Date     1200000 non-null  object \n",
            " 16  Customer Feedback     1122176 non-null  object \n",
            " 17  Smoking Status        1200000 non-null  object \n",
            " 18  Exercise Frequency    1200000 non-null  object \n",
            " 19  Property Type         1200000 non-null  object \n",
            " 20  Premium Amount        1200000 non-null  float64\n",
            "dtypes: float64(9), int64(1), object(11)\n",
            "memory usage: 192.3+ MB\n"
          ]
        }
      ],
      "source": [
        "print(\"Loading data...\")\n",
        "train_df = pd.read_csv(\"data/train.csv\")\n",
        "test_df = pd.read_csv(\"data/test.csv\")\n",
        "\n",
        "print(f\"Training Data Shape: {train_df.shape}\")\n",
        "print(f\"\\nTest Data Shape: {test_df.shape}\")\n",
        "print(\"\\nTraining Data Info:\")\n",
        "train_df.info()"
      ]
    },
    {
      "cell_type": "markdown",
      "metadata": {
        "id": "GRZRl1pL4a0M"
      },
      "source": [
        "#### 2. Exploratory Data Analysis\n"
      ]
    },
    {
      "cell_type": "markdown",
      "metadata": {
        "id": "Rqk7ZlGO4a0M"
      },
      "source": [
        "##### Numerical Data Plotting"
      ]
    },
    {
      "cell_type": "code",
      "execution_count": null,
      "metadata": {
        "id": "_3K7hiVN4a0M"
      },
      "outputs": [],
      "source": [
        "def plot_numeric_distributions(df, columns):\n",
        "    plt.figure(figsize=(15, 5*((len(columns)+2)//3)))\n",
        "    for i, col in enumerate(columns, 1):\n",
        "        plt.subplot((len(columns)+2)//3, 3, i)\n",
        "        sns.histplot(df[col].dropna(), kde=True)\n",
        "        plt.title(f'Distribution of {col}')\n",
        "        plt.xlabel(col)\n",
        "    plt.tight_layout()\n",
        "    plt.show()"
      ]
    },
    {
      "cell_type": "markdown",
      "metadata": {
        "id": "GGwoiMFc4a0M"
      },
      "source": [
        "##### Categorical Data Plotting"
      ]
    },
    {
      "cell_type": "code",
      "execution_count": null,
      "metadata": {
        "id": "xhUfqwKz4a0M"
      },
      "outputs": [],
      "source": [
        "def plot_categorical_distributions(df, columns):\n",
        "    plt.figure(figsize=(15, 5*((len(columns)+2)//3)))\n",
        "    for i, col in enumerate(columns, 1):\n",
        "        plt.subplot((len(columns)+2)//3, 3, i)\n",
        "        df[col].value_counts().plot(kind='bar')\n",
        "        plt.title(f'Distribution of {col}')\n",
        "        plt.xticks(rotation=45)\n",
        "    plt.tight_layout()\n",
        "    plt.show()"
      ]
    },
    {
      "cell_type": "markdown",
      "metadata": {
        "id": "Y0y8n_yE4a0M"
      },
      "source": [
        "##### Separate numeric and categorical columns"
      ]
    },
    {
      "cell_type": "code",
      "execution_count": null,
      "metadata": {
        "colab": {
          "base_uri": "https://localhost:8080/",
          "height": 1000
        },
        "id": "pGY9TR4B4a0N",
        "outputId": "43f3e052-144b-4c2e-9819-2f7a5b2848a9"
      },
      "outputs": [],
      "source": [
        "numeric_cols = train_df.select_dtypes(include=['int64', 'float64']).columns\n",
        "categorical_cols = train_df.select_dtypes(include=['object']).columns\n",
        "\n",
        "print(\"\\nPlotting numeric distributions...\")\n",
        "plot_numeric_distributions(train_df, numeric_cols)\n",
        "\n",
        "print(\"\\nPlotting categorical distributions...\")\n",
        "plot_categorical_distributions(train_df, categorical_cols)"
      ]
    },
    {
      "cell_type": "markdown",
      "metadata": {
        "id": "CrVUSVkt4a0N"
      },
      "source": [
        "#### 3. Feature Engineering"
      ]
    },
    {
      "cell_type": "code",
      "execution_count": 8,
      "metadata": {
        "id": "ICMpGUt_4a0N"
      },
      "outputs": [],
      "source": [
        "logging.basicConfig(level=logging.INFO, format=\"%(asctime)s - %(levelname)s - %(message)s\")\n",
        "\n",
        "\n",
        "class FeatureEngineer:\n",
        "    def __init__(self):\n",
        "        self.label_encoders = {}\n",
        "        self.scaler = StandardScaler()\n",
        "\n",
        "    @staticmethod\n",
        "    def standardize_column_names(df):\n",
        "        \"\"\"Standardizes column names by replacing spaces with underscores and converting to lowercase.\"\"\"\n",
        "        df.columns = df.columns.str.replace(' ', '_').str.replace('/', '_').str.lower()\n",
        "        return df\n",
        "\n",
        "    def transform_dates(self, df):\n",
        "        \"\"\"Extracts date-related features and drops the original date column.\"\"\"\n",
        "        df = df.copy()\n",
        "        if 'policy_start_date' in df.columns:\n",
        "            df['policy_start_date'] = pd.to_datetime(df['policy_start_date'], errors='coerce')\n",
        "            df['policy_start_year'] = df['policy_start_date'].dt.year\n",
        "            df['policy_start_month'] = df['policy_start_date'].dt.month\n",
        "            df['policy_start_quarter'] = df['policy_start_date'].dt.quarter\n",
        "            df.drop('policy_start_date', axis=1, inplace=True)\n",
        "        else:\n",
        "            logging.warning(\"Policy Start Date column not found.\")\n",
        "        return df\n",
        "\n",
        "    def create_interactions(self, df):\n",
        "        \"\"\"Generates interaction features.\"\"\"\n",
        "        df = df.copy()\n",
        "\n",
        "        # Basic ratio features\n",
        "        if 'annual_income' in df.columns and 'age' in df.columns:\n",
        "            df['age_income_ratio'] = df['age'] / (df['annual_income'] + 1)\n",
        "\n",
        "        if 'annual_income' in df.columns and 'number_of_dependents' in df.columns:\n",
        "            df['income_per_dependent'] = df['annual_income'] / (df['number_of_dependents'] + 1)\n",
        "\n",
        "        if 'health_score' in df.columns and 'age' in df.columns:\n",
        "            df['health_age_ratio'] = df['health_score'] / df['age']\n",
        "\n",
        "        # Risk-based features\n",
        "        if all(col in df.columns for col in ['health_score', 'credit_score', 'age']):\n",
        "            df['risk_score'] = df['health_score'] * df['credit_score'] / (df['age'] + 1)\n",
        "\n",
        "        if all(col in df.columns for col in ['previous_claims', 'insurance_duration']):\n",
        "            df['claims_duration_ratio'] = df['previous_claims'] / (df['insurance_duration'] + 1)\n",
        "\n",
        "        # Interaction with categorical features\n",
        "        if 'policy_type' in df.columns and 'annual_income' in df.columns:\n",
        "            df['income_by_policy_type'] = df['annual_income'] / df.groupby('policy_type')['annual_income'].transform('mean')\n",
        "\n",
        "        if 'location' in df.columns and 'health_score' in df.columns:\n",
        "            df['health_score_by_location'] = df['health_score'] / df.groupby('location')['health_score'].transform('mean')\n",
        "\n",
        "        return df\n",
        "\n",
        "    def encode_categoricals(self, df, is_training=True):\n",
        "        \"\"\"Encodes categorical features with Label Encoding.\"\"\"\n",
        "        df = df.copy()\n",
        "        for col in df.select_dtypes(include=['object']).columns:\n",
        "            if is_training:\n",
        "                self.label_encoders[col] = LabelEncoder()\n",
        "                df[col] = self.label_encoders[col].fit_transform(df[col].fillna('Unknown'))\n",
        "            else:\n",
        "                if col in self.label_encoders:\n",
        "                    # Handle unknown categories in the test set\n",
        "                    df[col] = df[col].fillna('Unknown')\n",
        "                    df[col] = df[col].map(\n",
        "                        lambda x: self.label_encoders[col].transform([x])[0] if x in self.label_encoders[col].classes_ else -1\n",
        "                    )\n",
        "                else:\n",
        "                    logging.warning(f\"Encoder for column {col} not found. Skipping encoding.\")\n",
        "        return df\n",
        "\n",
        "    def scale_features(self, df, is_training=True):\n",
        "        \"\"\"Scales numerical features using StandardScaler.\"\"\"\n",
        "        df = df.copy()\n",
        "        numeric_cols = df.select_dtypes(include=['int64', 'float64']).columns\n",
        "        numeric_cols = [col for col in numeric_cols if col not in ['id', 'premium_amount']]\n",
        "\n",
        "        if is_training:\n",
        "            df[numeric_cols] = self.scaler.fit_transform(df[numeric_cols].fillna(0))\n",
        "        else:\n",
        "            df[numeric_cols] = self.scaler.transform(df[numeric_cols].fillna(0))\n",
        "        return df\n",
        "\n",
        "    def transform(self, df, is_training=True):\n",
        "        \"\"\"Applies all transformations in sequence.\"\"\"\n",
        "        df = self.standardize_column_names(df)\n",
        "        df = self.transform_dates(df)\n",
        "        df = self.create_interactions(df)\n",
        "        df = self.encode_categoricals(df, is_training)\n",
        "        df = self.scale_features(df, is_training)\n",
        "        return df"
      ]
    },
    {
      "cell_type": "markdown",
      "metadata": {
        "id": "nJhJUHp74a0N"
      },
      "source": [
        "#### 4. Model Training and Evaluation"
      ]
    },
    {
      "cell_type": "code",
      "execution_count": 9,
      "metadata": {
        "id": "CZCVJTevnwBt"
      },
      "outputs": [],
      "source": [
        "class ModelTrainer:\n",
        "    def __init__(self, random_state=42):\n",
        "        self.random_state = random_state\n",
        "        self.models = {}\n",
        "\n",
        "    def train_xgboost(self, X_train, y_train, X_val=None, y_val=None):\n",
        "        params = {\n",
        "            'objective': 'reg:squarederror',\n",
        "            'eval_metric': 'rmse',\n",
        "            'max_depth': 8,\n",
        "            'learning_rate': 0.05,\n",
        "            'n_estimators': 1000,\n",
        "            'min_child_weight': 3,\n",
        "            'subsample': 0.8,\n",
        "            'colsample_bytree': 0.8,\n",
        "            'random_state': self.random_state\n",
        "        }\n",
        "\n",
        "        if X_val is not None and y_val is not None:\n",
        "            dtrain = xgb.DMatrix(X_train, label=y_train)\n",
        "            dval = xgb.DMatrix(X_val, label=y_val)\n",
        "            evals = [(dtrain, 'train'), (dval, 'eval')]\n",
        "\n",
        "            model = xgb.train(\n",
        "                params,\n",
        "                dtrain,\n",
        "                num_boost_round=1000,\n",
        "                evals=evals,\n",
        "                early_stopping_rounds=50,\n",
        "                verbose_eval=10\n",
        "            )\n",
        "        else:\n",
        "            model = xgb.XGBRegressor(**params)\n",
        "            model.fit(X_train, y_train)\n",
        "\n",
        "        return model\n",
        "\n",
        "    def train_lightgbm(self, X_train, y_train, X_val=None, y_val=None):\n",
        "        params = {\n",
        "            'objective': 'regression',\n",
        "            'metric': 'rmse',\n",
        "            'num_leaves': 31,\n",
        "            'learning_rate': 0.05,\n",
        "            'n_estimators': 1000,\n",
        "            'feature_fraction': 0.8,\n",
        "            'bagging_fraction': 0.8,\n",
        "            'random_state': self.random_state\n",
        "        }\n",
        "\n",
        "        X_train.columns = X_train.columns.str.replace(' ', '_')\n",
        "        X_val.columns = X_val.columns.str.replace(' ', '_')\n",
        "\n",
        "        model = lgb.LGBMRegressor(**params)\n",
        "\n",
        "        if X_val is not None and y_val is not None:\n",
        "            model.fit(\n",
        "                X_train, y_train,\n",
        "                eval_set=[(X_val, y_val)],\n",
        "                eval_metric=\"rmse\",\n",
        "                callbacks=[lgb.early_stopping(stopping_rounds=50)]\n",
        "            )\n",
        "        else:\n",
        "            model.fit(X_train, y_train)\n",
        "\n",
        "        return model\n",
        "\n",
        "    def train_with_kfold(self, X, y, n_splits=5):\n",
        "        kf = KFold(n_splits=n_splits, shuffle=True, random_state=self.random_state)\n",
        "        oof_predictions = np.zeros(len(X))\n",
        "\n",
        "        for fold, (train_idx, val_idx) in enumerate(kf.split(X), 1):\n",
        "            print(f\"\\nTraining Fold {fold}\")\n",
        "            X_train, X_val = X.iloc[train_idx], X.iloc[val_idx]\n",
        "            y_train, y_val = y.iloc[train_idx], y.iloc[val_idx]\n",
        "\n",
        "            xgb_model = self.train_xgboost(X_train, y_train, X_val, y_val)\n",
        "            lgb_model = self.train_lightgbm(X_train, y_train, X_val, y_val)\n",
        "\n",
        "            xgb_pred = xgb_model.predict(xgb.DMatrix(X_val))\n",
        "            lgb_pred = lgb_model.predict(X_val)\n",
        "\n",
        "            fold_pred = 0.5 * (xgb_pred + lgb_pred)\n",
        "            oof_predictions[val_idx] = fold_pred\n",
        "\n",
        "            fold_score = np.sqrt(mean_squared_log_error(y_val, fold_pred))\n",
        "            print(f\"Fold {fold} RMSLE: {fold_score:.5f}\")\n",
        "\n",
        "            self.models[f'xgb_fold_{fold}'] = xgb_model\n",
        "            self.models[f'lgb_fold_{fold}'] = lgb_model\n",
        "\n",
        "        overall_score = np.sqrt(mean_squared_log_error(y, oof_predictions))\n",
        "        print(f\"\\nOverall RMSLE: {overall_score:.5f}\")\n",
        "\n",
        "        return oof_predictions\n",
        "\n",
        "    def predict(self, X):\n",
        "        predictions = []\n",
        "        X.columns = X.columns.str.replace(' ', '_')\n",
        "\n",
        "        for name, model in self.models.items():\n",
        "            if isinstance(model, xgb.Booster):\n",
        "                pred = model.predict(xgb.DMatrix(X))\n",
        "            else:\n",
        "                pred = model.predict(X)\n",
        "            predictions.append(pred)\n",
        "\n",
        "        final_pred = np.mean(predictions, axis=0)\n",
        "        return final_pred\n"
      ]
    },
    {
      "cell_type": "markdown",
      "metadata": {
        "id": "BYBikK1L4a0N"
      },
      "source": [
        "#### 5. Main Training Pipeline"
      ]
    },
    {
      "cell_type": "code",
      "execution_count": 10,
      "metadata": {
        "colab": {
          "base_uri": "https://localhost:8080/"
        },
        "id": "1XRTqDnu4a0O",
        "outputId": "c1e3727a-fa45-447a-fb80-fef3338827bc"
      },
      "outputs": [
        {
          "name": "stdout",
          "output_type": "stream",
          "text": [
            "\n",
            "Starting main training pipeline...\n",
            "Preparing features...\n",
            "Features prepared!\n"
          ]
        }
      ],
      "source": [
        "print(\"\\nStarting main training pipeline...\")\n",
        "\n",
        "# Initialize feature engineer\n",
        "fe = FeatureEngineer()\n",
        "\n",
        "# Prepare features\n",
        "print(\"Preparing features...\")\n",
        "X = train_df.drop(['Premium Amount', 'id'], axis=1)\n",
        "y = np.log1p(train_df['Premium Amount'])  # Log transform target\n",
        "X = fe.transform(X, is_training=True)\n",
        "print(\"Features prepared!\")"
      ]
    },
    {
      "cell_type": "code",
      "execution_count": 11,
      "metadata": {
        "colab": {
          "base_uri": "https://localhost:8080/"
        },
        "id": "aSee8-Hq4a0O",
        "outputId": "fc682eb4-61d6-41a9-950b-b67f9c546073"
      },
      "outputs": [
        {
          "name": "stdout",
          "output_type": "stream",
          "text": [
            "\n",
            "Training models...\n",
            "\n",
            "Training Fold 1\n",
            "[0]\ttrain-rmse:1.09291\teval-rmse:1.09373\n",
            "[10]\ttrain-rmse:1.06673\teval-rmse:1.06868\n",
            "[20]\ttrain-rmse:1.05352\teval-rmse:1.05646\n",
            "[30]\ttrain-rmse:1.04763\teval-rmse:1.05158\n",
            "[40]\ttrain-rmse:1.04428\teval-rmse:1.04913\n",
            "[50]\ttrain-rmse:1.04245\teval-rmse:1.04821\n",
            "[60]\ttrain-rmse:1.04096\teval-rmse:1.04759\n",
            "[70]\ttrain-rmse:1.03987\teval-rmse:1.04734\n",
            "[80]\ttrain-rmse:1.03894\teval-rmse:1.04724\n",
            "[90]\ttrain-rmse:1.03803\teval-rmse:1.04717\n",
            "[100]\ttrain-rmse:1.03719\teval-rmse:1.04713\n",
            "[110]\ttrain-rmse:1.03634\teval-rmse:1.04709\n",
            "[120]\ttrain-rmse:1.03550\teval-rmse:1.04705\n",
            "[130]\ttrain-rmse:1.03464\teval-rmse:1.04705\n",
            "[140]\ttrain-rmse:1.03386\teval-rmse:1.04703\n",
            "[150]\ttrain-rmse:1.03305\teval-rmse:1.04705\n",
            "[160]\ttrain-rmse:1.03223\teval-rmse:1.04707\n",
            "[170]\ttrain-rmse:1.03152\teval-rmse:1.04708\n",
            "[180]\ttrain-rmse:1.03077\teval-rmse:1.04708\n",
            "[189]\ttrain-rmse:1.03006\teval-rmse:1.04711\n",
            "[LightGBM] [Warning] feature_fraction is set=0.8, colsample_bytree=1.0 will be ignored. Current value: feature_fraction=0.8\n",
            "[LightGBM] [Warning] bagging_fraction is set=0.8, subsample=1.0 will be ignored. Current value: bagging_fraction=0.8\n",
            "[LightGBM] [Warning] feature_fraction is set=0.8, colsample_bytree=1.0 will be ignored. Current value: feature_fraction=0.8\n",
            "[LightGBM] [Warning] bagging_fraction is set=0.8, subsample=1.0 will be ignored. Current value: bagging_fraction=0.8\n",
            "[LightGBM] [Info] Auto-choosing row-wise multi-threading, the overhead of testing was 0.035737 seconds.\n",
            "You can set `force_row_wise=true` to remove the overhead.\n",
            "And if memory is not enough, you can set `force_col_wise=true`.\n",
            "[LightGBM] [Info] Total Bins 2496\n",
            "[LightGBM] [Info] Number of data points in the train set: 960000, number of used features: 28\n",
            "[LightGBM] [Warning] feature_fraction is set=0.8, colsample_bytree=1.0 will be ignored. Current value: feature_fraction=0.8\n",
            "[LightGBM] [Warning] bagging_fraction is set=0.8, subsample=1.0 will be ignored. Current value: bagging_fraction=0.8\n",
            "[LightGBM] [Info] Start training from score 6.593848\n",
            "Training until validation scores don't improve for 50 rounds\n",
            "Early stopping, best iteration is:\n",
            "[318]\tvalid_0's rmse: 1.04682\n",
            "[LightGBM] [Warning] feature_fraction is set=0.8, colsample_bytree=1.0 will be ignored. Current value: feature_fraction=0.8\n",
            "[LightGBM] [Warning] bagging_fraction is set=0.8, subsample=1.0 will be ignored. Current value: bagging_fraction=0.8\n",
            "Fold 1 RMSLE: 0.15844\n",
            "\n",
            "Training Fold 2\n",
            "[0]\ttrain-rmse:1.09318\teval-rmse:1.09251\n",
            "[10]\ttrain-rmse:1.06692\teval-rmse:1.06735\n",
            "[20]\ttrain-rmse:1.05379\teval-rmse:1.05519\n",
            "[30]\ttrain-rmse:1.04794\teval-rmse:1.05041\n",
            "[40]\ttrain-rmse:1.04457\teval-rmse:1.04807\n",
            "[50]\ttrain-rmse:1.04276\teval-rmse:1.04716\n",
            "[60]\ttrain-rmse:1.04120\teval-rmse:1.04657\n",
            "[70]\ttrain-rmse:1.04012\teval-rmse:1.04630\n",
            "[80]\ttrain-rmse:1.03923\teval-rmse:1.04617\n",
            "[90]\ttrain-rmse:1.03842\teval-rmse:1.04609\n",
            "[100]\ttrain-rmse:1.03757\teval-rmse:1.04604\n",
            "[110]\ttrain-rmse:1.03672\teval-rmse:1.04603\n",
            "[120]\ttrain-rmse:1.03584\teval-rmse:1.04602\n",
            "[130]\ttrain-rmse:1.03500\teval-rmse:1.04602\n",
            "[140]\ttrain-rmse:1.03423\teval-rmse:1.04603\n",
            "[150]\ttrain-rmse:1.03342\teval-rmse:1.04601\n",
            "[160]\ttrain-rmse:1.03267\teval-rmse:1.04603\n",
            "[170]\ttrain-rmse:1.03197\teval-rmse:1.04605\n",
            "[180]\ttrain-rmse:1.03123\teval-rmse:1.04607\n",
            "[190]\ttrain-rmse:1.03049\teval-rmse:1.04609\n",
            "[200]\ttrain-rmse:1.02976\teval-rmse:1.04613\n",
            "[204]\ttrain-rmse:1.02948\teval-rmse:1.04615\n",
            "[LightGBM] [Warning] feature_fraction is set=0.8, colsample_bytree=1.0 will be ignored. Current value: feature_fraction=0.8\n",
            "[LightGBM] [Warning] bagging_fraction is set=0.8, subsample=1.0 will be ignored. Current value: bagging_fraction=0.8\n",
            "[LightGBM] [Warning] feature_fraction is set=0.8, colsample_bytree=1.0 will be ignored. Current value: feature_fraction=0.8\n",
            "[LightGBM] [Warning] bagging_fraction is set=0.8, subsample=1.0 will be ignored. Current value: bagging_fraction=0.8\n",
            "[LightGBM] [Info] Auto-choosing row-wise multi-threading, the overhead of testing was 0.030605 seconds.\n",
            "You can set `force_row_wise=true` to remove the overhead.\n",
            "And if memory is not enough, you can set `force_col_wise=true`.\n",
            "[LightGBM] [Info] Total Bins 2495\n",
            "[LightGBM] [Info] Number of data points in the train set: 960000, number of used features: 28\n",
            "[LightGBM] [Warning] feature_fraction is set=0.8, colsample_bytree=1.0 will be ignored. Current value: feature_fraction=0.8\n",
            "[LightGBM] [Warning] bagging_fraction is set=0.8, subsample=1.0 will be ignored. Current value: bagging_fraction=0.8\n",
            "[LightGBM] [Info] Start training from score 6.594073\n",
            "Training until validation scores don't improve for 50 rounds\n",
            "Early stopping, best iteration is:\n",
            "[555]\tvalid_0's rmse: 1.04581\n",
            "[LightGBM] [Warning] feature_fraction is set=0.8, colsample_bytree=1.0 will be ignored. Current value: feature_fraction=0.8\n",
            "[LightGBM] [Warning] bagging_fraction is set=0.8, subsample=1.0 will be ignored. Current value: bagging_fraction=0.8\n",
            "Fold 2 RMSLE: 0.15819\n",
            "\n",
            "Training Fold 3\n",
            "[0]\ttrain-rmse:1.09325\teval-rmse:1.09249\n",
            "[10]\ttrain-rmse:1.06691\teval-rmse:1.06787\n",
            "[20]\ttrain-rmse:1.05363\teval-rmse:1.05596\n",
            "[30]\ttrain-rmse:1.04776\teval-rmse:1.05123\n",
            "[40]\ttrain-rmse:1.04438\teval-rmse:1.04887\n",
            "[50]\ttrain-rmse:1.04261\teval-rmse:1.04802\n",
            "[60]\ttrain-rmse:1.04111\teval-rmse:1.04746\n",
            "[70]\ttrain-rmse:1.04006\teval-rmse:1.04727\n",
            "[80]\ttrain-rmse:1.03903\teval-rmse:1.04713\n",
            "[90]\ttrain-rmse:1.03816\teval-rmse:1.04707\n",
            "[100]\ttrain-rmse:1.03737\teval-rmse:1.04709\n",
            "[110]\ttrain-rmse:1.03650\teval-rmse:1.04705\n",
            "[120]\ttrain-rmse:1.03567\teval-rmse:1.04705\n",
            "[130]\ttrain-rmse:1.03492\teval-rmse:1.04705\n",
            "[140]\ttrain-rmse:1.03416\teval-rmse:1.04706\n",
            "[150]\ttrain-rmse:1.03335\teval-rmse:1.04705\n",
            "[160]\ttrain-rmse:1.03259\teval-rmse:1.04705\n",
            "[170]\ttrain-rmse:1.03184\teval-rmse:1.04706\n",
            "[180]\ttrain-rmse:1.03104\teval-rmse:1.04707\n",
            "[190]\ttrain-rmse:1.03029\teval-rmse:1.04709\n",
            "[200]\ttrain-rmse:1.02962\teval-rmse:1.04709\n",
            "[210]\ttrain-rmse:1.02883\teval-rmse:1.04711\n",
            "[215]\ttrain-rmse:1.02839\teval-rmse:1.04710\n",
            "[LightGBM] [Warning] feature_fraction is set=0.8, colsample_bytree=1.0 will be ignored. Current value: feature_fraction=0.8\n",
            "[LightGBM] [Warning] bagging_fraction is set=0.8, subsample=1.0 will be ignored. Current value: bagging_fraction=0.8\n",
            "[LightGBM] [Warning] feature_fraction is set=0.8, colsample_bytree=1.0 will be ignored. Current value: feature_fraction=0.8\n",
            "[LightGBM] [Warning] bagging_fraction is set=0.8, subsample=1.0 will be ignored. Current value: bagging_fraction=0.8\n",
            "[LightGBM] [Info] Auto-choosing row-wise multi-threading, the overhead of testing was 0.032176 seconds.\n",
            "You can set `force_row_wise=true` to remove the overhead.\n",
            "And if memory is not enough, you can set `force_col_wise=true`.\n",
            "[LightGBM] [Info] Total Bins 2495\n",
            "[LightGBM] [Info] Number of data points in the train set: 960000, number of used features: 28\n",
            "[LightGBM] [Warning] feature_fraction is set=0.8, colsample_bytree=1.0 will be ignored. Current value: feature_fraction=0.8\n",
            "[LightGBM] [Warning] bagging_fraction is set=0.8, subsample=1.0 will be ignored. Current value: bagging_fraction=0.8\n",
            "[LightGBM] [Info] Start training from score 6.592481\n",
            "Training until validation scores don't improve for 50 rounds\n",
            "Early stopping, best iteration is:\n",
            "[317]\tvalid_0's rmse: 1.04669\n",
            "[LightGBM] [Warning] feature_fraction is set=0.8, colsample_bytree=1.0 will be ignored. Current value: feature_fraction=0.8\n",
            "[LightGBM] [Warning] bagging_fraction is set=0.8, subsample=1.0 will be ignored. Current value: bagging_fraction=0.8\n",
            "Fold 3 RMSLE: 0.15826\n",
            "\n",
            "Training Fold 4\n",
            "[0]\ttrain-rmse:1.09312\teval-rmse:1.09289\n",
            "[10]\ttrain-rmse:1.06722\teval-rmse:1.06714\n",
            "[20]\ttrain-rmse:1.05424\teval-rmse:1.05466\n",
            "[30]\ttrain-rmse:1.04842\teval-rmse:1.04959\n",
            "[40]\ttrain-rmse:1.04505\teval-rmse:1.04712\n",
            "[50]\ttrain-rmse:1.04321\teval-rmse:1.04616\n",
            "[60]\ttrain-rmse:1.04169\teval-rmse:1.04553\n",
            "[70]\ttrain-rmse:1.04067\teval-rmse:1.04528\n",
            "[80]\ttrain-rmse:1.03965\teval-rmse:1.04511\n",
            "[90]\ttrain-rmse:1.03875\teval-rmse:1.04502\n",
            "[100]\ttrain-rmse:1.03791\teval-rmse:1.04497\n",
            "[110]\ttrain-rmse:1.03708\teval-rmse:1.04495\n",
            "[120]\ttrain-rmse:1.03632\teval-rmse:1.04494\n",
            "[130]\ttrain-rmse:1.03560\teval-rmse:1.04491\n",
            "[140]\ttrain-rmse:1.03484\teval-rmse:1.04491\n",
            "[150]\ttrain-rmse:1.03406\teval-rmse:1.04490\n",
            "[160]\ttrain-rmse:1.03321\teval-rmse:1.04490\n",
            "[170]\ttrain-rmse:1.03245\teval-rmse:1.04486\n",
            "[180]\ttrain-rmse:1.03167\teval-rmse:1.04485\n",
            "[190]\ttrain-rmse:1.03100\teval-rmse:1.04488\n",
            "[200]\ttrain-rmse:1.03023\teval-rmse:1.04489\n",
            "[210]\ttrain-rmse:1.02945\teval-rmse:1.04491\n",
            "[220]\ttrain-rmse:1.02861\teval-rmse:1.04492\n",
            "[221]\ttrain-rmse:1.02856\teval-rmse:1.04491\n",
            "[LightGBM] [Warning] feature_fraction is set=0.8, colsample_bytree=1.0 will be ignored. Current value: feature_fraction=0.8\n",
            "[LightGBM] [Warning] bagging_fraction is set=0.8, subsample=1.0 will be ignored. Current value: bagging_fraction=0.8\n",
            "[LightGBM] [Warning] feature_fraction is set=0.8, colsample_bytree=1.0 will be ignored. Current value: feature_fraction=0.8\n",
            "[LightGBM] [Warning] bagging_fraction is set=0.8, subsample=1.0 will be ignored. Current value: bagging_fraction=0.8\n",
            "[LightGBM] [Info] Auto-choosing row-wise multi-threading, the overhead of testing was 0.035210 seconds.\n",
            "You can set `force_row_wise=true` to remove the overhead.\n",
            "And if memory is not enough, you can set `force_col_wise=true`.\n",
            "[LightGBM] [Info] Total Bins 2495\n",
            "[LightGBM] [Info] Number of data points in the train set: 960000, number of used features: 28\n",
            "[LightGBM] [Warning] feature_fraction is set=0.8, colsample_bytree=1.0 will be ignored. Current value: feature_fraction=0.8\n",
            "[LightGBM] [Warning] bagging_fraction is set=0.8, subsample=1.0 will be ignored. Current value: bagging_fraction=0.8\n",
            "[LightGBM] [Info] Start training from score 6.594598\n",
            "Training until validation scores don't improve for 50 rounds\n",
            "Early stopping, best iteration is:\n",
            "[402]\tvalid_0's rmse: 1.0446\n",
            "[LightGBM] [Warning] feature_fraction is set=0.8, colsample_bytree=1.0 will be ignored. Current value: feature_fraction=0.8\n",
            "[LightGBM] [Warning] bagging_fraction is set=0.8, subsample=1.0 will be ignored. Current value: bagging_fraction=0.8\n",
            "Fold 4 RMSLE: 0.15796\n",
            "\n",
            "Training Fold 5\n",
            "[0]\ttrain-rmse:1.09281\teval-rmse:1.09412\n",
            "[10]\ttrain-rmse:1.06649\teval-rmse:1.06856\n",
            "[20]\ttrain-rmse:1.05348\teval-rmse:1.05625\n",
            "[30]\ttrain-rmse:1.04768\teval-rmse:1.05125\n",
            "[40]\ttrain-rmse:1.04434\teval-rmse:1.04888\n",
            "[50]\ttrain-rmse:1.04255\teval-rmse:1.04789\n",
            "[60]\ttrain-rmse:1.04105\teval-rmse:1.04725\n",
            "[70]\ttrain-rmse:1.03995\teval-rmse:1.04699\n",
            "[80]\ttrain-rmse:1.03898\teval-rmse:1.04681\n",
            "[90]\ttrain-rmse:1.03811\teval-rmse:1.04674\n",
            "[100]\ttrain-rmse:1.03725\teval-rmse:1.04667\n",
            "[110]\ttrain-rmse:1.03638\teval-rmse:1.04662\n",
            "[120]\ttrain-rmse:1.03554\teval-rmse:1.04663\n",
            "[130]\ttrain-rmse:1.03471\teval-rmse:1.04662\n",
            "[140]\ttrain-rmse:1.03388\teval-rmse:1.04662\n",
            "[150]\ttrain-rmse:1.03309\teval-rmse:1.04663\n",
            "[160]\ttrain-rmse:1.03229\teval-rmse:1.04664\n",
            "[170]\ttrain-rmse:1.03146\teval-rmse:1.04665\n",
            "[180]\ttrain-rmse:1.03067\teval-rmse:1.04667\n",
            "[184]\ttrain-rmse:1.03033\teval-rmse:1.04669\n",
            "[LightGBM] [Warning] feature_fraction is set=0.8, colsample_bytree=1.0 will be ignored. Current value: feature_fraction=0.8\n",
            "[LightGBM] [Warning] bagging_fraction is set=0.8, subsample=1.0 will be ignored. Current value: bagging_fraction=0.8\n",
            "[LightGBM] [Warning] feature_fraction is set=0.8, colsample_bytree=1.0 will be ignored. Current value: feature_fraction=0.8\n",
            "[LightGBM] [Warning] bagging_fraction is set=0.8, subsample=1.0 will be ignored. Current value: bagging_fraction=0.8\n",
            "[LightGBM] [Info] Auto-choosing row-wise multi-threading, the overhead of testing was 0.034368 seconds.\n",
            "You can set `force_row_wise=true` to remove the overhead.\n",
            "And if memory is not enough, you can set `force_col_wise=true`.\n",
            "[LightGBM] [Info] Total Bins 2497\n",
            "[LightGBM] [Info] Number of data points in the train set: 960000, number of used features: 28\n",
            "[LightGBM] [Warning] feature_fraction is set=0.8, colsample_bytree=1.0 will be ignored. Current value: feature_fraction=0.8\n",
            "[LightGBM] [Warning] bagging_fraction is set=0.8, subsample=1.0 will be ignored. Current value: bagging_fraction=0.8\n",
            "[LightGBM] [Info] Start training from score 6.594444\n",
            "Training until validation scores don't improve for 50 rounds\n",
            "Early stopping, best iteration is:\n",
            "[371]\tvalid_0's rmse: 1.04608\n",
            "[LightGBM] [Warning] feature_fraction is set=0.8, colsample_bytree=1.0 will be ignored. Current value: feature_fraction=0.8\n",
            "[LightGBM] [Warning] bagging_fraction is set=0.8, subsample=1.0 will be ignored. Current value: bagging_fraction=0.8\n",
            "Fold 5 RMSLE: 0.15830\n",
            "\n",
            "Overall RMSLE: 0.15823\n",
            "\n",
            "Training completed!\n",
            "\n",
            "Preparing test data...\n",
            "\n",
            "Preparing test data completed!\n",
            "Making final predictions...\n",
            "[LightGBM] [Warning] feature_fraction is set=0.8, colsample_bytree=1.0 will be ignored. Current value: feature_fraction=0.8\n",
            "[LightGBM] [Warning] bagging_fraction is set=0.8, subsample=1.0 will be ignored. Current value: bagging_fraction=0.8\n",
            "[LightGBM] [Warning] feature_fraction is set=0.8, colsample_bytree=1.0 will be ignored. Current value: feature_fraction=0.8\n",
            "[LightGBM] [Warning] bagging_fraction is set=0.8, subsample=1.0 will be ignored. Current value: bagging_fraction=0.8\n",
            "[LightGBM] [Warning] feature_fraction is set=0.8, colsample_bytree=1.0 will be ignored. Current value: feature_fraction=0.8\n",
            "[LightGBM] [Warning] bagging_fraction is set=0.8, subsample=1.0 will be ignored. Current value: bagging_fraction=0.8\n",
            "[LightGBM] [Warning] feature_fraction is set=0.8, colsample_bytree=1.0 will be ignored. Current value: feature_fraction=0.8\n",
            "[LightGBM] [Warning] bagging_fraction is set=0.8, subsample=1.0 will be ignored. Current value: bagging_fraction=0.8\n",
            "[LightGBM] [Warning] feature_fraction is set=0.8, colsample_bytree=1.0 will be ignored. Current value: feature_fraction=0.8\n",
            "[LightGBM] [Warning] bagging_fraction is set=0.8, subsample=1.0 will be ignored. Current value: bagging_fraction=0.8\n",
            "\n",
            "Predictions completed!\n"
          ]
        }
      ],
      "source": [
        "# Train models\n",
        "print(\"\\nTraining models...\")\n",
        "trainer = ModelTrainer(random_state=RANDOM_STATE)\n",
        "oof_predictions = trainer.train_with_kfold(X, y)\n",
        "print(\"\\nTraining completed!\")\n",
        "\n",
        "# Prepare test data\n",
        "print(\"\\nPreparing test data...\")\n",
        "test_features = test_df.drop(['id'], axis=1)\n",
        "test_features = fe.transform(test_features, is_training=False)\n",
        "print(\"\\nPreparing test data completed!\")\n",
        "\n",
        "# Make predictions\n",
        "print(\"Making final predictions...\")\n",
        "test_predictions = trainer.predict(test_features)\n",
        "test_predictions = np.expm1(test_predictions)  # Inverse log transform\n",
        "print(\"\\nPredictions completed!\")\n"
      ]
    },
    {
      "cell_type": "markdown",
      "metadata": {
        "id": "rhYKfV1b4a0O"
      },
      "source": [
        "#### 6. Create submission file\n"
      ]
    },
    {
      "cell_type": "code",
      "execution_count": 12,
      "metadata": {
        "colab": {
          "base_uri": "https://localhost:8080/"
        },
        "id": "axNMO7eL4a0O",
        "outputId": "4882cbce-f1c9-4ec2-922f-6067eddf5244"
      },
      "outputs": [
        {
          "name": "stdout",
          "output_type": "stream",
          "text": [
            "\n",
            "Submission file created!\n"
          ]
        }
      ],
      "source": [
        "submission = pd.DataFrame({\n",
        "    'id': test_df['id'],\n",
        "    'Premium Amount': test_predictions\n",
        "})\n",
        "submission.to_csv('submission.csv', index=False)\n",
        "print(\"\\nSubmission file created!\")"
      ]
    },
    {
      "cell_type": "markdown",
      "metadata": {
        "id": "3n14GxIZNHah"
      },
      "source": [
        "#### 7. Visualize Predictions"
      ]
    },
    {
      "cell_type": "code",
      "execution_count": 13,
      "metadata": {
        "id": "LOyKXZ5DNPhC"
      },
      "outputs": [],
      "source": [
        "def visualize_predictions(y_true, y_pred):\n",
        "    \"\"\"\n",
        "    Visualize the actual vs predicted values using scatter plot and line plot.\n",
        "\n",
        "    Parameters:\n",
        "    - y_true: Actual values (target variable).\n",
        "    - y_pred: Predicted values from the model.\n",
        "    \"\"\"\n",
        "    # Set up the plot size\n",
        "    plt.figure(figsize=(12, 6))\n",
        "\n",
        "    # Scatter Plot\n",
        "    plt.subplot(1, 2, 1)\n",
        "    plt.scatter(y_true, y_pred, color='blue', alpha=0.6)\n",
        "    plt.plot([min(y_true), max(y_true)], [min(y_true), max(y_true)], color='red', linestyle='--', linewidth=2)\n",
        "    plt.title(\"Scatter Plot: Actual vs Predicted\")\n",
        "    plt.xlabel(\"Actual Values\")\n",
        "    plt.ylabel(\"Predicted Values\")\n",
        "    plt.grid(True)\n",
        "\n",
        "    # Line Plot (if data is sorted by actual values for better understanding)\n",
        "    plt.subplot(1, 2, 2)\n",
        "    sorted_indices = y_true.argsort()\n",
        "    plt.plot(y_true[sorted_indices], y_pred[sorted_indices], color='blue', label='Predictions')\n",
        "    plt.plot(y_true[sorted_indices], y_true[sorted_indices], color='red', linestyle='--', label='Actual Values')\n",
        "    plt.title(\"Line Plot: Actual vs Predicted\")\n",
        "    plt.xlabel(\"Sorted Actual Values\")\n",
        "    plt.ylabel(\"Predicted Values\")\n",
        "    plt.legend()\n",
        "    plt.grid(True)\n",
        "\n",
        "    # Show both plots\n",
        "    plt.tight_layout()\n",
        "    plt.show()\n"
      ]
    },
    {
      "cell_type": "code",
      "execution_count": 14,
      "metadata": {
        "colab": {
          "base_uri": "https://localhost:8080/",
          "height": 607
        },
        "id": "SKcpBWqkNblt",
        "outputId": "7badd576-4726-4584-f087-e2263a73aaaf"
      },
      "outputs": [
        {
          "data": {
            "image/png": "[encoded data removed]",
            "text/plain": [
              "<Figure size 1200x600 with 2 Axes>"
            ]
          },
          "metadata": {},
          "output_type": "display_data"
        }
      ],
      "source": [
        "y_true = y\n",
        "y_pred = oof_predictions\n",
        "\n",
        "# Visualize the predictions\n",
        "visualize_predictions(y_true, y_pred)\n"
      ]
    }
  ],
  "metadata": {
    "colab": {
      "provenance": [],
      "toc_visible": true
    },
    "kernelspec": {
      "display_name": "venv",
      "language": "python",
      "name": "python3"
    },
    "language_info": {
      "codemirror_mode": {
        "name": "ipython",
        "version": 3
      },
      "file_extension": ".py",
      "mimetype": "text/x-python",
      "name": "python",
      "nbconvert_exporter": "python",
      "pygments_lexer": "ipython3",
      "version": "3.11.0"
    }
  },
  "nbformat": 4,
  "nbformat_minor": 0
}
